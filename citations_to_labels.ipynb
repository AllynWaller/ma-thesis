{
 "cells": [
  {
   "cell_type": "code",
   "execution_count": 48,
   "metadata": {},
   "outputs": [],
   "source": [
    "import os\n",
    "import string\n",
    "import re"
   ]
  },
  {
   "cell_type": "code",
   "execution_count": 49,
   "metadata": {},
   "outputs": [
    {
     "name": "stdout",
     "output_type": "stream",
     "text": [
      "['citation_list.tsv', 'Old Method']\n"
     ]
    }
   ],
   "source": [
    "#Checks for which files are available for use\n",
    "path = 'processed_text'\n",
    "listOfFiles = os.listdir(path)\n",
    "print(listOfFiles)"
   ]
  },
  {
   "cell_type": "code",
   "execution_count": 50,
   "metadata": {},
   "outputs": [
    {
     "name": "stdout",
     "output_type": "stream",
     "text": [
      "urn:cts:greekLit:tlg0032.tlg006.perseus-grc2@1.1.1\tΔαρείου καὶ Παρυσάτιδος γίγνονται παῖδες δύο, πρεσβύτερος μὲν Ἀρταξέρξης, νεώτερος δὲ Κῦρος· ἐπεὶ δὲ ἠσθένει Δαρεῖος καὶ ὑπώπτευε τελευτὴν τοῦ βίου, ἐβούλετο τὼ παῖδε ἀμφοτέρω παρεῖναι.\n",
      "\n"
     ]
    }
   ],
   "source": [
    "file = open(os.path.join(path, 'citation_list.tsv'), \"r\", encoding=\"utf-8\")\n",
    "content = file.readlines()\n",
    "file.close()\n",
    "print(content[0])"
   ]
  },
  {
   "cell_type": "code",
   "execution_count": 51,
   "metadata": {},
   "outputs": [
    {
     "name": "stdout",
     "output_type": "stream",
     "text": [
      "['urn:cts:greekLit:tlg0032.tlg006.perseus-grc2@1.1.1', 'Δαρείου καὶ Παρυσάτιδος γίγνονται παῖδες δύο, πρεσβύτερος μὲν Ἀρταξέρξης, νεώτερος δὲ Κῦρος· ἐπεὶ δὲ ἠσθένει Δαρεῖος καὶ ὑπώπτευε τελευτὴν τοῦ βίου, ἐβούλετο τὼ παῖδε ἀμφοτέρω παρεῖναι.', '1']\n",
      "['urn:cts:greekLit:tlg0540.tlg034.perseus-grc2@0.0.11', 'δεινὸν γὰρ ἂν εἴη, ὦ Ἀθηναῖοι, εἰ, ὅτε μὲν ἐφεύγομεν, ἐμαχόμεθα Λακεδαιμονίοις, ἵνα κατέλθωμεν, κατελθόντες δὲ φευξόμεθα, ἵνα μὴ μαχώμεθα. οὐκ οὖν αἰσχρὸν εἰ εἰς τοῦτο κακίας ἥξομεν, ὥστε οἱ μὲν πρόγονοι καὶ ὑπὲρ τῆς τῶν ἄλλων ἐλευθερίας διεκινδύνευον, ὑμεῖς δὲ οὐδὲ ὑπὲρ τῆς ὑμετέρας αὐτῶν τολμᾶτε πολεμεῖν;', '0']\n"
     ]
    }
   ],
   "source": [
    "citations = []\n",
    "for line in content: \n",
    "    citations.append(line.split('\\t'))\n",
    "    \n",
    "#print(citations[0])\n",
    "#print(citations[-1])\n",
    "    \n",
    "for entry in citations:\n",
    "    entry[1] = entry[1].strip()\n",
    "    if entry[1] == '':\n",
    "        entry[0] = ''\n",
    "        \n",
    "while ['',''] in citations:\n",
    "    citations.remove(['',''])\n",
    "        \n",
    "    \n",
    "#print(citations[0])\n",
    "#print(citations[-1])\n",
    "\n",
    "historiography = [\n",
    "    'tlg0032.tlg006',#the Anabasis of Xenophon\n",
    "    'tlg0032.tlg001',#the Hellenica of Xenophon\n",
    "    'tlg0016.tlg001',#the Histories of Herodotus\n",
    "    'tlg0003.tlg001',#the Histories of Thucydides    \n",
    "]\n",
    "    \n",
    "for entry in citations: \n",
    "    author_work_id = entry[0][17:31]\n",
    "    #print(author_work_id)\n",
    "    if author_work_id in historiography:\n",
    "        entry.append('1')\n",
    "        \n",
    "    else:\n",
    "        entry.append('0')\n",
    "    \n",
    "    \n",
    "print(citations[0])\n",
    "print(citations[-1])\n",
    "    "
   ]
  },
  {
   "cell_type": "code",
   "execution_count": 52,
   "metadata": {},
   "outputs": [
    {
     "name": "stdout",
     "output_type": "stream",
     "text": [
      "Success!\n"
     ]
    }
   ],
   "source": [
    "#Generate the labelled data for the algorithm\n",
    "cleanfile = open('processed_text/labelled_data.txt', 'w', encoding=\"utf-8\") \n",
    "for item in citations:\n",
    "    cleanfile.write(item[0]+ \"\\t\"+item[1]+\"\\t\" +item[2]+\"\\n\")\n",
    "        \n",
    "cleanfile.close()\n",
    "print('Success!')"
   ]
  },
  {
   "cell_type": "code",
   "execution_count": null,
   "metadata": {},
   "outputs": [],
   "source": []
  }
 ],
 "metadata": {
  "kernelspec": {
   "display_name": "Python 3",
   "language": "python",
   "name": "python3"
  },
  "language_info": {
   "codemirror_mode": {
    "name": "ipython",
    "version": 3
   },
   "file_extension": ".py",
   "mimetype": "text/x-python",
   "name": "python",
   "nbconvert_exporter": "python",
   "pygments_lexer": "ipython3",
   "version": "3.7.4"
  }
 },
 "nbformat": 4,
 "nbformat_minor": 2
}
