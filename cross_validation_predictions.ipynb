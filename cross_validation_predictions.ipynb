{
 "cells": [
  {
   "cell_type": "code",
   "execution_count": 1,
   "metadata": {},
   "outputs": [],
   "source": [
    "import pandas as pd\n",
    "from sklearn.model_selection import train_test_split\n",
    "from sklearn.feature_extraction.text import CountVectorizer\n",
    "from sklearn.linear_model import LogisticRegression\n",
    "from sklearn import metrics\n",
    "from sklearn.model_selection import cross_val_predict\n",
    "import os"
   ]
  },
  {
   "cell_type": "code",
   "execution_count": 2,
   "metadata": {},
   "outputs": [
    {
     "name": "stdout",
     "output_type": "stream",
     "text": [
      "citation    urn:cts:greekLit:tlg0032.tlg006.perseus-grc2@1...\n",
      "sentence    Δαρείου καὶ Παρυσάτιδος γίγνονται παῖδες δύο, ...\n",
      "label                                                       1\n",
      "source                                          random_labels\n",
      "Name: 0, dtype: object\n"
     ]
    }
   ],
   "source": [
    "filepath_dict = {'random_labels':   'processed_text/randomly_labelled_data.txt',\n",
    "                 'labelled_data':   'processed_text/labelled_data.txt'}\n",
    "\n",
    "df_list = []\n",
    "for source, filepath in filepath_dict.items():\n",
    "    df = pd.read_csv(filepath, names=['citation', 'sentence', 'label'], sep='\\t')\n",
    "    df['source'] = source  # Add another column filled with the source name\n",
    "    df_list.append(df)\n",
    "\n",
    "df = pd.concat(df_list)\n",
    "\n",
    "#Make sure it loaded properly\n",
    "print(df.iloc[0])"
   ]
  },
  {
   "cell_type": "code",
   "execution_count": 3,
   "metadata": {},
   "outputs": [
    {
     "name": "stdout",
     "output_type": "stream",
     "text": [
      "Converting random_labels text to vectors...\n",
      "Generating cross-validation predictions from random_labels data...\n",
      "Generating confusion matrix for random_labels predictions...\n",
      "[[4599 5130]\n",
      " [4913 4973]]\n",
      "Successfully generated mistake locations in random_labels!\n",
      "Successfully generated mistake citations for random_labels text!\n",
      "Here is a sample: urn:cts:greekLit:tlg0032.tlg006.perseus-grc2@1.1.1\n",
      "Successfully written to the processed_text folder!\n",
      "\n",
      "Converting labelled_data2 text to vectors...\n",
      "Generating cross-validation predictions from labelled_data2 data...\n",
      "Generating confusion matrix for labelled_data2 predictions...\n",
      "[[ 8352   733]\n",
      " [  488 10042]]\n",
      "Successfully generated mistake locations in labelled_data2!\n",
      "Successfully generated mistake citations for labelled_data2 text!\n",
      "Here is a sample: urn:cts:greekLit:tlg0032.tlg006.perseus-grc2@1.3.4\n",
      "Successfully written to the processed_text folder!\n",
      "\n"
     ]
    }
   ],
   "source": [
    "for source in df['source'].unique():\n",
    "    df_source = df[df['source'] == source]\n",
    "    sentences = df_source['sentence'].values\n",
    "    citations = df_source['citation'].values\n",
    "    y = df_source['label'].values\n",
    "\n",
    "    \n",
    "    print('Converting '+source+' text to vectors...')\n",
    "    vectorizer = CountVectorizer()\n",
    "    vectorizer.fit(sentences)\n",
    "    vectors = vectorizer.transform(sentences)\n",
    "    \n",
    "    classifier = LogisticRegression(max_iter = 1000)\n",
    "    \n",
    "    print('Generating cross-validation predictions from '+source+' data...')\n",
    "    predictions = cross_val_predict(classifier, vectors, y, cv = 10, n_jobs = -1)\n",
    "    \n",
    "    print('Generating confusion matrix for '+source+' predictions...')\n",
    "    cm = metrics.confusion_matrix(y, predictions)\n",
    "\n",
    "    print(cm)   \n",
    "    \n",
    "    count = 0\n",
    "    mistake_locations = []\n",
    "    mistakes = []\n",
    "    for val in predictions:\n",
    "        if y[count] != val:\n",
    "            mistake_locations.append(count)\n",
    "                        \n",
    "        count = count + 1\n",
    "    \n",
    "    #print(len(mistake_locations))\n",
    "    \n",
    "    for location in mistake_locations:\n",
    "        mistakes.append(sentences[location])\n",
    "        \n",
    "    #print(len(mistakes)) \n",
    "    \n",
    "    if len(mistake_locations)==len(mistakes):\n",
    "        print('Successfully generated mistake locations in '+source+'!')\n",
    "        \n",
    "    else:\n",
    "        print('Oh, no! Something went wrong generating mistake locations in '+source+'!')\n",
    "     \n",
    "    mistake_citations = []\n",
    "    for text in mistakes:\n",
    "        mistake_citations.append(citations[sentences.tolist().index(text)])\n",
    "    \n",
    "    print('Successfully generated mistake citations for '+source+' text!')\n",
    "    print('Here is a sample: '+mistake_citations[0])\n",
    "    \n",
    "    \n",
    "    \n",
    "    #Save the list of errors to a file *NOTE: CURRENTLY SET TO OVERWRITE ANY FILE WITH THE SAME NAME*\n",
    "    cleanfile = open('processed_text/mistakes_from_'+source+'.txt', 'w', encoding=\"utf-8\") \n",
    "    for item in mistake_citations:\n",
    "        cleanfile.write(item+\"\\n\")\n",
    "        \n",
    "    cleanfile.close()\n",
    "    print('Successfully written to the processed_text folder!')\n",
    "    print()"
   ]
  },
  {
   "cell_type": "code",
   "execution_count": null,
   "metadata": {},
   "outputs": [],
   "source": []
  }
 ],
 "metadata": {
  "kernelspec": {
   "display_name": "Python 3",
   "language": "python",
   "name": "python3"
  },
  "language_info": {
   "codemirror_mode": {
    "name": "ipython",
    "version": 3
   },
   "file_extension": ".py",
   "mimetype": "text/x-python",
   "name": "python",
   "nbconvert_exporter": "python",
   "pygments_lexer": "ipython3",
   "version": "3.7.4"
  }
 },
 "nbformat": 4,
 "nbformat_minor": 2
}
