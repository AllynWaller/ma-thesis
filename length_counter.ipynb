{
 "cells": [
  {
   "cell_type": "code",
   "execution_count": 1,
   "metadata": {},
   "outputs": [],
   "source": [
    "import os\n",
    "import string\n",
    "import re"
   ]
  },
  {
   "cell_type": "code",
   "execution_count": 2,
   "metadata": {},
   "outputs": [
    {
     "name": "stdout",
     "output_type": "stream",
     "text": [
      "['citation_list.tsv', 'labelled_data.txt', 'mistakes.txt', 'mistakes_from_labelled_data.txt', 'mistakes_from_labelled_data2.txt', 'mistakes_from_random_labels.txt', 'Old Method', 'randomly_labelled_data.txt']\n"
     ]
    }
   ],
   "source": [
    "#Checks for which files are available for use\n",
    "path = 'processed_text'\n",
    "listOfFiles = os.listdir(path)\n",
    "print(listOfFiles)"
   ]
  },
  {
   "cell_type": "code",
   "execution_count": 3,
   "metadata": {},
   "outputs": [],
   "source": [
    "def breakdown_counts(filename):\n",
    "\n",
    "    file = open(os.path.join(path, filename), \"r\", encoding=\"utf-8\")\n",
    "    content = file.readlines()\n",
    "    file.close()\n",
    "    #print(content[0])\n",
    "\n",
    "    citations = []\n",
    "    for line in content: \n",
    "        citations.append(line.split('\\t'))\n",
    "    \n",
    "    #print(citations[0])\n",
    "    #print(citations[-1])\n",
    " \n",
    "    #These lines are only for counting the 'labeled_data.txt' file to get the whole count. It takes care of the bug\n",
    "    #that makes it have those extra blank lines at the end of each work. \n",
    "    if filename == 'labelled_data.txt':\n",
    "        for entry in citations:\n",
    "            entry[1] = entry[1].strip()\n",
    "            if entry[1] == '':\n",
    "                entry[0] = ''\n",
    "            \n",
    "        while ['',''] in citations:\n",
    "            citations.remove(['',''])\n",
    "        \n",
    "    \n",
    "    #print(citations[0])\n",
    "    #print(citations[-1])\n",
    "\n",
    "    counts = {}\n",
    "\n",
    "    for entry in citations: \n",
    "        author_work_id = entry[0][17:31]\n",
    "        #print(author_work_id)\n",
    "        if author_work_id not in counts:\n",
    "            counts[author_work_id] = 1\n",
    "        \n",
    "        else:\n",
    "            counts[author_work_id] = counts[author_work_id] + 1\n",
    "    \n",
    "    \n",
    "    #print(citations[0])\n",
    "    #print(citations[-1])\n",
    "    #print(counts)\n",
    "\n",
    "    #Compiles a list by author\n",
    "\n",
    "    author_counts = {}\n",
    "\n",
    "    for work, number in counts.items(): \n",
    "        author_id = work[0:7]\n",
    "        #print(author_id)\n",
    "        if author_id not in author_counts:\n",
    "            author_counts[author_id] = number\n",
    "        \n",
    "        else:\n",
    "            author_counts[author_id] = author_counts[author_id] + number\n",
    "\n",
    "        \n",
    "    print(\"Of the total \"+str(len(citations))+\" sections in the file \"+filename+\n",
    "          \", there are this many sections per author:\")\n",
    "    print(\"Number of sections in Herodotus: \\t\"+ str(author_counts['tlg0016']))\n",
    "    print(\"Number of sections in Thucydides: \\t\"+ str(author_counts['tlg0003']))\n",
    "    print(\"Number of sections in Xenophon: \\t\"+ str(author_counts['tlg0032']))\n",
    "    print(\"Number of sections in Isocrates: \\t\"+ str(author_counts['tlg0010']))\n",
    "    print(\"Number of sections in Demosthenes: \\t\"+ str(author_counts['tlg0014']))\n",
    "    print(\"Number of sections in Lysias: \\t\\t\"+ str(author_counts['tlg0540']))\n",
    "    print()\n",
    "    print(\"This is the breakdown for Xenophon:\")\n",
    "    print(\"Number of sections in the Hellenica: \\t\"+ str(counts['tlg0032.tlg001']))\n",
    "    print(\"Number of sections in the Memorabilia: \\t\"+ str(counts['tlg0032.tlg002']))\n",
    "    print(\"Number of sections in the Economicus: \\t\"+ str(counts['tlg0032.tlg003']))\n",
    "    print(\"Number of sections in the Sypmposium: \\t\"+ str(counts['tlg0032.tlg004']))\n",
    "    print(\"Number of sections in the Apology: \\t\"+ str(counts['tlg0032.tlg005']))\n",
    "    print(\"Number of sections in the Anabasis: \\t\"+ str(counts['tlg0032.tlg006']))\n",
    "    print(\"Number of sections in the Hiero: \\t\"+ str(counts['tlg0032.tlg008']))"
   ]
  },
  {
   "cell_type": "code",
   "execution_count": 5,
   "metadata": {},
   "outputs": [
    {
     "name": "stdout",
     "output_type": "stream",
     "text": [
      "Of the total 1221 sections in the file mistakes_from_labelled_data.txt, there are this many sections per author:\n",
      "Number of sections in Herodotus: \t16\n",
      "Number of sections in Thucydides: \t71\n",
      "Number of sections in Xenophon: \t801\n",
      "Number of sections in Isocrates: \t55\n",
      "Number of sections in Demosthenes: \t100\n",
      "Number of sections in Lysias: \t\t178\n",
      "\n",
      "This is the breakdown for Xenophon:\n",
      "Number of sections in the Hellenica: \t253\n",
      "Number of sections in the Memorabilia: \t99\n",
      "Number of sections in the Economicus: \t145\n",
      "Number of sections in the Sypmposium: \t59\n",
      "Number of sections in the Apology: \t10\n",
      "Number of sections in the Anabasis: \t148\n",
      "Number of sections in the Hiero: \t87\n"
     ]
    }
   ],
   "source": [
    "breakdown_counts('mistakes_from_labelled_data.txt')"
   ]
  },
  {
   "cell_type": "code",
   "execution_count": 6,
   "metadata": {},
   "outputs": [
    {
     "name": "stdout",
     "output_type": "stream",
     "text": [
      "Of the total 19615 sections in the file labelled_data.txt, there are this many sections per author:\n",
      "Number of sections in Herodotus: \t4338\n",
      "Number of sections in Thucydides: \t3577\n",
      "Number of sections in Xenophon: \t4003\n",
      "Number of sections in Isocrates: \t2116\n",
      "Number of sections in Demosthenes: \t4465\n",
      "Number of sections in Lysias: \t\t1116\n",
      "\n",
      "This is the breakdown for Xenophon:\n",
      "Number of sections in the Hellenica: \t1146\n",
      "Number of sections in the Memorabilia: \t608\n",
      "Number of sections in the Economicus: \t397\n",
      "Number of sections in the Sypmposium: \t196\n",
      "Number of sections in the Apology: \t34\n",
      "Number of sections in the Anabasis: \t1469\n",
      "Number of sections in the Hiero: \t153\n"
     ]
    }
   ],
   "source": [
    "breakdown_counts('labelled_data.txt')"
   ]
  },
  {
   "cell_type": "code",
   "execution_count": 21,
   "metadata": {},
   "outputs": [
    {
     "name": "stdout",
     "output_type": "stream",
     "text": [
      "Of the total 1221 sections in the file mistakes_from_labelled_data.txt, there are this many sections per author:\n",
      "Number of sections in Herodotus: \t16\n",
      "Number of sections in Thucydides: \t71\n",
      "Number of sections in Xenophon: \t801\n",
      "Number of sections in Isocrates: \t55\n",
      "Number of sections in Demosthenes: \t100\n",
      "Number of sections in Lysias: \t\t178\n",
      "\n",
      "This is the breakdown for Xenophon:\n",
      "Number of sections in the Hellenica: \t253\n",
      "Number of sections in the Memorabilia: \t99\n",
      "Number of sections in the Economicus: \t145\n",
      "Number of sections in the Sypmposium: \t59\n",
      "Number of sections in the Apology: \t10\n",
      "Number of sections in the Anabasis: \t148\n",
      "Number of sections in the Hiero: \t87\n"
     ]
    }
   ],
   "source": [
    "breakdown_counts('mistakes_from_labelled_data.txt')"
   ]
  },
  {
   "cell_type": "code",
   "execution_count": 25,
   "metadata": {},
   "outputs": [
    {
     "name": "stdout",
     "output_type": "stream",
     "text": [
      "Of the total 1221 sections in the file mistakes_from_labelled_data2.txt, there are this many sections per author:\n",
      "Number of sections in Herodotus: \t16\n",
      "Number of sections in Thucydides: \t71\n",
      "Number of sections in Xenophon: \t801\n",
      "Number of sections in Isocrates: \t55\n",
      "Number of sections in Demosthenes: \t100\n",
      "Number of sections in Lysias: \t\t178\n",
      "\n",
      "This is the breakdown for Xenophon:\n",
      "Number of sections in the Hellenica: \t253\n",
      "Number of sections in the Memorabilia: \t99\n",
      "Number of sections in the Economicus: \t145\n",
      "Number of sections in the Sypmposium: \t59\n",
      "Number of sections in the Apology: \t10\n",
      "Number of sections in the Anabasis: \t148\n",
      "Number of sections in the Hiero: \t87\n"
     ]
    }
   ],
   "source": [
    "#testing to see if cross_val_predict is consistent, which it seems to be.\n",
    "breakdown_counts('mistakes_from_labelled_data2.txt')"
   ]
  },
  {
   "cell_type": "code",
   "execution_count": 24,
   "metadata": {},
   "outputs": [
    {
     "name": "stdout",
     "output_type": "stream",
     "text": [
      "Of the total 10043 sections in the file mistakes_from_random_labels.txt, there are this many sections per author:\n",
      "Number of sections in Herodotus: \t2182\n",
      "Number of sections in Thucydides: \t1856\n",
      "Number of sections in Xenophon: \t2154\n",
      "Number of sections in Isocrates: \t1042\n",
      "Number of sections in Demosthenes: \t2252\n",
      "Number of sections in Lysias: \t\t557\n",
      "\n",
      "This is the breakdown for Xenophon:\n",
      "Number of sections in the Hellenica: \t619\n",
      "Number of sections in the Memorabilia: \t376\n",
      "Number of sections in the Economicus: \t206\n",
      "Number of sections in the Sypmposium: \t90\n",
      "Number of sections in the Apology: \t22\n",
      "Number of sections in the Anabasis: \t765\n",
      "Number of sections in the Hiero: \t76\n"
     ]
    }
   ],
   "source": [
    "breakdown_counts('mistakes_from_random_labels.txt')"
   ]
  },
  {
   "cell_type": "code",
   "execution_count": null,
   "metadata": {},
   "outputs": [],
   "source": []
  }
 ],
 "metadata": {
  "kernelspec": {
   "display_name": "Python 3",
   "language": "python",
   "name": "python3"
  },
  "language_info": {
   "codemirror_mode": {
    "name": "ipython",
    "version": 3
   },
   "file_extension": ".py",
   "mimetype": "text/x-python",
   "name": "python",
   "nbconvert_exporter": "python",
   "pygments_lexer": "ipython3",
   "version": "3.7.4"
  }
 },
 "nbformat": 4,
 "nbformat_minor": 2
}
